{
 "cells": [
  {
   "cell_type": "code",
   "execution_count": 206,
   "metadata": {},
   "outputs": [
    {
     "name": "stdout",
     "output_type": "stream",
     "text": [
      "TensorFlow version:  2.0.0\n",
      "Keras version:  2.2.4-tf\n",
      "Tensorboard version: 2.0.0\n"
     ]
    }
   ],
   "source": [
    "import numpy as np\n",
    "import pandas as pd\n",
    "import random\n",
    "import string\n",
    "import tensorflow as tf\n",
    "from tensorflow import keras\n",
    "import tensorboard\n",
    "import os\n",
    "from pathlib import Path\n",
    "import datetime\n",
    "\n",
    "from sklearn.model_selection import ParameterSampler\n",
    "from sklearn.model_selection import train_test_split\n",
    "\n",
    "print('TensorFlow version: ', tf.__version__)\n",
    "print('Keras version: ', keras.__version__)\n",
    "print('Tensorboard version:', tensorboard.__version__)\n",
    "\n"
   ]
  },
  {
   "cell_type": "code",
   "execution_count": 185,
   "metadata": {},
   "outputs": [],
   "source": [
    "# city names\n",
    "canada_cities = pd.read_csv('list-of-cities-in-canada-csv.csv',names=['city'])\n",
    "l = list(pd.get_dummies(canada_cities,drop_first=True).columns)\n",
    "l.sort()\n",
    "k = {}\n",
    "for i in enumerate(l):\n",
    "    k[i[1].split('_')[1].lower()] = i[0]\n",
    "    \n",
    "len(k)\n",
    "zero_list = list(np.zeros(len(k)))\n",
    "zero_list[3] = 1.0"
   ]
  },
  {
   "cell_type": "code",
   "execution_count": 98,
   "metadata": {},
   "outputs": [
    {
     "name": "stdout",
     "output_type": "stream",
     "text": [
      "   age          city   dist gender    make  year     model new_used  \\\n",
      "0   61    Belleville  10726      m    audi  2017    e-tron     used   \n",
      "1   21  Wood Buffalo   9401      m  toyota  2001     camry     used   \n",
      "2   83       Kelowna   9427      m   acura  2016       mdx     used   \n",
      "3   28      St. John  21090      m    ford  2003  explorer     used   \n",
      "4   56        Sarnia   7099      m    audi  2018    e-tron     used   \n",
      "\n",
      "         quote  \n",
      "0   352.599790  \n",
      "1  1723.855245  \n",
      "2   221.792349  \n",
      "3  1723.855245  \n",
      "4   354.748787  \n"
     ]
    }
   ],
   "source": [
    "df1 = pd.read_csv(data_path / file_csv[0],)\n",
    "print(df1.head())\n",
    "x1 = df2.to_numpy()"
   ]
  },
  {
   "cell_type": "code",
   "execution_count": 99,
   "metadata": {},
   "outputs": [],
   "source": [
    "df1 = pd.read_csv(data_path / file_csv[0],)"
   ]
  },
  {
   "cell_type": "code",
   "execution_count": 69,
   "metadata": {},
   "outputs": [
    {
     "name": "stdout",
     "output_type": "stream",
     "text": [
      "   age          city   dist gender    make  year     model new_used  \\\n",
      "0   61    Belleville  10726      m    audi  2017    e-tron     used   \n",
      "1   21  Wood Buffalo   9401      m  toyota  2001     camry     used   \n",
      "2   83       Kelowna   9427      m   acura  2016       mdx     used   \n",
      "3   28      St. John  21090      m    ford  2003  explorer     used   \n",
      "4   56        Sarnia   7099      m    audi  2018    e-tron     used   \n",
      "\n",
      "        quote  \n",
      "0  432.629987  \n",
      "1  175.000958  \n",
      "2  263.333491  \n",
      "3  175.000958  \n",
      "4  433.598257  \n"
     ]
    },
    {
     "data": {
      "text/plain": [
       "(5000, 9)"
      ]
     },
     "execution_count": 69,
     "metadata": {},
     "output_type": "execute_result"
    }
   ],
   "source": [
    "df2 = pd.read_csv(data_path / file_csv[1],)\n",
    "print(df2.head())\n",
    "x2 = df2.to_numpy()\n",
    "x2.shape"
   ]
  },
  {
   "cell_type": "code",
   "execution_count": 71,
   "metadata": {},
   "outputs": [
    {
     "data": {
      "text/plain": [
       "(5000, 9, 2)"
      ]
     },
     "execution_count": 71,
     "metadata": {},
     "output_type": "execute_result"
    }
   ],
   "source": [
    "b = np.dstack((x1,x2))\n",
    "b.shape"
   ]
  },
  {
   "cell_type": "code",
   "execution_count": 201,
   "metadata": {},
   "outputs": [
    {
     "name": "stdout",
     "output_type": "stream",
     "text": [
      "company_4.csv\n",
      "company_2.csv\n",
      "company_18.csv\n",
      "company_1.csv\n",
      "company_11.csv\n",
      "(5000, 5, 114)\n"
     ]
    },
    {
     "data": {
      "text/plain": [
       "['company_4.csv',\n",
       " 'company_2.csv',\n",
       " 'company_18.csv',\n",
       " 'company_1.csv',\n",
       " 'company_11.csv']"
      ]
     },
     "execution_count": 201,
     "metadata": {},
     "output_type": "execute_result"
    }
   ],
   "source": [
    "data_path = Path('/home/tim/Documents/flask_experiment/data')\n",
    "\n",
    "file_csv = []\n",
    "index_count = 0\n",
    "for file in os.listdir(data_path):\n",
    "    # open up the .mat file\n",
    "    if file.endswith(\".csv\"):\n",
    "        file_csv.append(file)\n",
    "        print(file)\n",
    "        df = pd.read_csv(data_path / file,)\n",
    "        df = df.drop(['model'],axis=1,inplace=False)\n",
    "        if index_count == 0:\n",
    "            y = df['quote'].to_numpy()\n",
    "            df = df.drop(['quote'],axis=1,inplace=False)\n",
    "            df = pd.get_dummies(df,drop_first=True)\n",
    "            X = df.to_numpy()\n",
    "            index_count += 1\n",
    "        else:\n",
    "            a = df['quote'].to_numpy()\n",
    "            y = np.vstack((a, y))\n",
    "            df = df.drop(['quote'],axis=1,inplace=False)\n",
    "            df = pd.get_dummies(df,drop_first=True)\n",
    "            X = np.dstack((df.to_numpy(), X))\n",
    "            index_count += 1\n",
    "\n",
    "y = np.reshape(y,(-1,5))\n",
    "X = np.reshape(X,(X.shape[0],-1,X.shape[1]))\n",
    "print(X.shape)\n",
    "print(file_csv)\n",
    "\n"
   ]
  },
  {
   "cell_type": "code",
   "execution_count": 210,
   "metadata": {},
   "outputs": [],
   "source": [
    "model = keras.models.Sequential([\n",
    "    keras.layers.Dense(300, activation=\"relu\", input_shape=[5, 114]),\n",
    "    keras.layers.Dense(300, activation=\"relu\"),\n",
    "    keras.layers.Dense(300, activation=\"relu\"),\n",
    "    keras.layers.Dense(1, activation=\"linear\")\n",
    "])"
   ]
  },
  {
   "cell_type": "code",
   "execution_count": 211,
   "metadata": {},
   "outputs": [
    {
     "name": "stdout",
     "output_type": "stream",
     "text": [
      "Model: \"sequential_4\"\n",
      "_________________________________________________________________\n",
      "Layer (type)                 Output Shape              Param #   \n",
      "=================================================================\n",
      "dense_12 (Dense)             (None, 5, 300)            34500     \n",
      "_________________________________________________________________\n",
      "dense_13 (Dense)             (None, 5, 300)            90300     \n",
      "_________________________________________________________________\n",
      "dense_14 (Dense)             (None, 5, 300)            90300     \n",
      "_________________________________________________________________\n",
      "dense_15 (Dense)             (None, 5, 1)              301       \n",
      "=================================================================\n",
      "Total params: 215,401\n",
      "Trainable params: 215,401\n",
      "Non-trainable params: 0\n",
      "_________________________________________________________________\n"
     ]
    }
   ],
   "source": [
    "model.summary()"
   ]
  },
  {
   "cell_type": "code",
   "execution_count": 212,
   "metadata": {},
   "outputs": [],
   "source": [
    "model.compile(loss=\"mse\",\n",
    "              optimizer=\"adam\",\n",
    "              metrics=[\"mse\"])\n",
    "\n",
    "# create a name for the model so that we can track it in tensorboard\n",
    "log_dir=\"logs/\" + datetime.datetime.now().strftime(\"%Y%m%d-%H%M%S\") + \"_quote\"\n",
    "\n",
    "# create tensorboard callback\n",
    "tensorboard_callback = tf.keras.callbacks.TensorBoard(log_dir=log_dir, histogram_freq=0,\n",
    "                                                      update_freq='epoch',profile_batch=0)"
   ]
  },
  {
   "cell_type": "code",
   "execution_count": 213,
   "metadata": {},
   "outputs": [
    {
     "name": "stdout",
     "output_type": "stream",
     "text": [
      "Train on 5000 samples\n",
      "Epoch 1/30\n",
      "5000/5000 [==============================] - 1s 169us/sample - loss: 165519.9183 - mse: 165519.8906\n",
      "Epoch 2/30\n",
      "5000/5000 [==============================] - 0s 80us/sample - loss: 100133.7457 - mse: 100133.7422\n",
      "Epoch 3/30\n",
      "5000/5000 [==============================] - 0s 79us/sample - loss: 99354.4805 - mse: 99354.4766\n",
      "Epoch 4/30\n",
      "5000/5000 [==============================] - 0s 80us/sample - loss: 100002.0868 - mse: 100002.0703\n",
      "Epoch 5/30\n",
      "5000/5000 [==============================] - 0s 80us/sample - loss: 98612.6120 - mse: 98612.6172\n",
      "Epoch 6/30\n",
      "5000/5000 [==============================] - 0s 80us/sample - loss: 98367.5500 - mse: 98367.5234\n",
      "Epoch 7/30\n",
      "5000/5000 [==============================] - 0s 79us/sample - loss: 98449.4773 - mse: 98449.5078\n",
      "Epoch 8/30\n",
      "5000/5000 [==============================] - 0s 80us/sample - loss: 98179.5070 - mse: 98179.4922\n",
      "Epoch 9/30\n",
      "5000/5000 [==============================] - 0s 79us/sample - loss: 98145.2673 - mse: 98145.2812\n",
      "Epoch 10/30\n",
      "5000/5000 [==============================] - 0s 82us/sample - loss: 98081.6476 - mse: 98081.6953\n",
      "Epoch 11/30\n",
      "5000/5000 [==============================] - 0s 87us/sample - loss: 98095.8078 - mse: 98095.7734\n",
      "Epoch 12/30\n",
      "5000/5000 [==============================] - 0s 78us/sample - loss: 98052.6132 - mse: 98052.6172\n",
      "Epoch 13/30\n",
      "5000/5000 [==============================] - 0s 77us/sample - loss: 98088.2499 - mse: 98088.2734\n",
      "Epoch 14/30\n",
      "5000/5000 [==============================] - 0s 78us/sample - loss: 97946.0246 - mse: 97946.0312\n",
      "Epoch 15/30\n",
      "5000/5000 [==============================] - 0s 82us/sample - loss: 98012.3828 - mse: 98012.3594\n",
      "Epoch 16/30\n",
      "5000/5000 [==============================] - 0s 81us/sample - loss: 97934.7277 - mse: 97934.7188\n",
      "Epoch 17/30\n",
      "5000/5000 [==============================] - 0s 79us/sample - loss: 98001.8018 - mse: 98001.7734\n",
      "Epoch 18/30\n",
      "5000/5000 [==============================] - 0s 77us/sample - loss: 98004.4875 - mse: 98004.4922\n",
      "Epoch 19/30\n",
      "5000/5000 [==============================] - 0s 78us/sample - loss: 97968.2455 - mse: 97968.2734\n",
      "Epoch 20/30\n",
      "5000/5000 [==============================] - 0s 78us/sample - loss: 97908.4032 - mse: 97908.4062\n",
      "Epoch 21/30\n",
      "5000/5000 [==============================] - 0s 78us/sample - loss: 97953.7466 - mse: 97953.7500\n",
      "Epoch 22/30\n",
      "5000/5000 [==============================] - 0s 88us/sample - loss: 98038.8514 - mse: 98038.8594\n",
      "Epoch 23/30\n",
      "5000/5000 [==============================] - 0s 79us/sample - loss: 97963.2471 - mse: 97963.2656\n",
      "Epoch 24/30\n",
      "5000/5000 [==============================] - 0s 79us/sample - loss: 97875.9420 - mse: 97875.9062\n",
      "Epoch 25/30\n",
      "5000/5000 [==============================] - 0s 78us/sample - loss: 97944.5090 - mse: 97944.4922\n",
      "Epoch 26/30\n",
      "5000/5000 [==============================] - 0s 90us/sample - loss: 97836.4311 - mse: 97836.4453\n",
      "Epoch 27/30\n",
      "5000/5000 [==============================] - 0s 80us/sample - loss: 97930.2547 - mse: 97930.2188\n",
      "Epoch 28/30\n",
      "5000/5000 [==============================] - 0s 80us/sample - loss: 97762.2297 - mse: 97762.2109\n",
      "Epoch 29/30\n",
      "5000/5000 [==============================] - 0s 80us/sample - loss: 98070.0828 - mse: 98070.0938\n",
      "Epoch 30/30\n",
      "5000/5000 [==============================] - 0s 79us/sample - loss: 97877.3890 - mse: 97877.3828\n"
     ]
    }
   ],
   "source": [
    "history = model.fit(X, y, \n",
    "                    epochs=30,\n",
    "                    verbose=1,\n",
    "                    callbacks=[tensorboard_callback])"
   ]
  },
  {
   "cell_type": "code",
   "execution_count": null,
   "metadata": {},
   "outputs": [],
   "source": []
  },
  {
   "cell_type": "code",
   "execution_count": null,
   "metadata": {},
   "outputs": [],
   "source": []
  },
  {
   "cell_type": "code",
   "execution_count": null,
   "metadata": {},
   "outputs": [],
   "source": []
  },
  {
   "cell_type": "code",
   "execution_count": null,
   "metadata": {},
   "outputs": [],
   "source": []
  },
  {
   "cell_type": "code",
   "execution_count": 188,
   "metadata": {},
   "outputs": [
    {
     "name": "stdout",
     "output_type": "stream",
     "text": [
      "(5000, 5)\n",
      "(5000, 114, 5)\n"
     ]
    }
   ],
   "source": [
    "print(y.shape)\n",
    "print(X.shape)"
   ]
  },
  {
   "cell_type": "code",
   "execution_count": 76,
   "metadata": {},
   "outputs": [],
   "source": [
    "y = np.reshape(y,(-1,5))"
   ]
  },
  {
   "cell_type": "code",
   "execution_count": 77,
   "metadata": {},
   "outputs": [
    {
     "data": {
      "text/plain": [
       "(5000, 5)"
      ]
     },
     "execution_count": 77,
     "metadata": {},
     "output_type": "execute_result"
    }
   ],
   "source": [
    "y.shape"
   ]
  },
  {
   "cell_type": "code",
   "execution_count": 32,
   "metadata": {},
   "outputs": [],
   "source": [
    "df = df.drop(['quote'],axis=1,inplace=True)"
   ]
  },
  {
   "cell_type": "code",
   "execution_count": 33,
   "metadata": {},
   "outputs": [
    {
     "ename": "AttributeError",
     "evalue": "'NoneType' object has no attribute 'head'",
     "output_type": "error",
     "traceback": [
      "\u001b[0;31m----------------------------------------------------------------------\u001b[0m",
      "\u001b[0;31mAttributeError\u001b[0m                       Traceback (most recent call last)",
      "\u001b[0;32m<ipython-input-33-c42a15b2c7cf>\u001b[0m in \u001b[0;36m<module>\u001b[0;34m\u001b[0m\n\u001b[0;32m----> 1\u001b[0;31m \u001b[0mdf\u001b[0m\u001b[0;34m.\u001b[0m\u001b[0mhead\u001b[0m\u001b[0;34m(\u001b[0m\u001b[0;34m)\u001b[0m\u001b[0;34m\u001b[0m\u001b[0;34m\u001b[0m\u001b[0m\n\u001b[0m",
      "\u001b[0;31mAttributeError\u001b[0m: 'NoneType' object has no attribute 'head'"
     ]
    }
   ],
   "source": [
    "df.head()"
   ]
  },
  {
   "cell_type": "code",
   "execution_count": 44,
   "metadata": {},
   "outputs": [
    {
     "data": {
      "text/html": [
       "<div>\n",
       "<style scoped>\n",
       "    .dataframe tbody tr th:only-of-type {\n",
       "        vertical-align: middle;\n",
       "    }\n",
       "\n",
       "    .dataframe tbody tr th {\n",
       "        vertical-align: top;\n",
       "    }\n",
       "\n",
       "    .dataframe thead th {\n",
       "        text-align: right;\n",
       "    }\n",
       "</style>\n",
       "<table border=\"1\" class=\"dataframe\">\n",
       "  <thead>\n",
       "    <tr style=\"text-align: right;\">\n",
       "      <th></th>\n",
       "      <th>age</th>\n",
       "      <th>city</th>\n",
       "      <th>dist</th>\n",
       "      <th>gender</th>\n",
       "      <th>make</th>\n",
       "      <th>year</th>\n",
       "      <th>model</th>\n",
       "      <th>new_used</th>\n",
       "      <th>quote</th>\n",
       "    </tr>\n",
       "  </thead>\n",
       "  <tbody>\n",
       "    <tr>\n",
       "      <td>0</td>\n",
       "      <td>61</td>\n",
       "      <td>Belleville</td>\n",
       "      <td>10726</td>\n",
       "      <td>m</td>\n",
       "      <td>audi</td>\n",
       "      <td>2017</td>\n",
       "      <td>e-tron</td>\n",
       "      <td>used</td>\n",
       "      <td>352.599790</td>\n",
       "    </tr>\n",
       "    <tr>\n",
       "      <td>1</td>\n",
       "      <td>21</td>\n",
       "      <td>Wood Buffalo</td>\n",
       "      <td>9401</td>\n",
       "      <td>m</td>\n",
       "      <td>toyota</td>\n",
       "      <td>2001</td>\n",
       "      <td>camry</td>\n",
       "      <td>used</td>\n",
       "      <td>1723.855245</td>\n",
       "    </tr>\n",
       "    <tr>\n",
       "      <td>2</td>\n",
       "      <td>83</td>\n",
       "      <td>Kelowna</td>\n",
       "      <td>9427</td>\n",
       "      <td>m</td>\n",
       "      <td>acura</td>\n",
       "      <td>2016</td>\n",
       "      <td>mdx</td>\n",
       "      <td>used</td>\n",
       "      <td>221.792349</td>\n",
       "    </tr>\n",
       "    <tr>\n",
       "      <td>3</td>\n",
       "      <td>28</td>\n",
       "      <td>St. John</td>\n",
       "      <td>21090</td>\n",
       "      <td>m</td>\n",
       "      <td>ford</td>\n",
       "      <td>2003</td>\n",
       "      <td>explorer</td>\n",
       "      <td>used</td>\n",
       "      <td>1723.855245</td>\n",
       "    </tr>\n",
       "    <tr>\n",
       "      <td>4</td>\n",
       "      <td>56</td>\n",
       "      <td>Sarnia</td>\n",
       "      <td>7099</td>\n",
       "      <td>m</td>\n",
       "      <td>audi</td>\n",
       "      <td>2018</td>\n",
       "      <td>e-tron</td>\n",
       "      <td>used</td>\n",
       "      <td>354.748787</td>\n",
       "    </tr>\n",
       "  </tbody>\n",
       "</table>\n",
       "</div>"
      ],
      "text/plain": [
       "   age          city   dist gender    make  year     model new_used  \\\n",
       "0   61    Belleville  10726      m    audi  2017    e-tron     used   \n",
       "1   21  Wood Buffalo   9401      m  toyota  2001     camry     used   \n",
       "2   83       Kelowna   9427      m   acura  2016       mdx     used   \n",
       "3   28      St. John  21090      m    ford  2003  explorer     used   \n",
       "4   56        Sarnia   7099      m    audi  2018    e-tron     used   \n",
       "\n",
       "         quote  \n",
       "0   352.599790  \n",
       "1  1723.855245  \n",
       "2   221.792349  \n",
       "3  1723.855245  \n",
       "4   354.748787  "
      ]
     },
     "execution_count": 44,
     "metadata": {},
     "output_type": "execute_result"
    }
   ],
   "source": [
    "df1 = pd.read_csv(data_path / file_csv[0],)\n",
    "df1.head()"
   ]
  },
  {
   "cell_type": "code",
   "execution_count": 45,
   "metadata": {},
   "outputs": [],
   "source": [
    "df1 = df1.drop(['quote'], axis=1, inplace=False)"
   ]
  },
  {
   "cell_type": "code",
   "execution_count": 46,
   "metadata": {},
   "outputs": [],
   "source": [
    "X = df1.to_numpy()"
   ]
  },
  {
   "cell_type": "code",
   "execution_count": 47,
   "metadata": {},
   "outputs": [
    {
     "data": {
      "text/plain": [
       "array([[61, 'Belleville', 10726, ..., 2017, 'e-tron', 'used'],\n",
       "       [21, 'Wood Buffalo', 9401, ..., 2001, 'camry', 'used'],\n",
       "       [83, 'Kelowna', 9427, ..., 2016, 'mdx', 'used'],\n",
       "       ...,\n",
       "       [43, 'Montreal', 2619, ..., 2003, 'corrola', 'used'],\n",
       "       [37, 'Laval', 16457, ..., 2017, 'c', 'used'],\n",
       "       [20, 'Fredericton', 14860, ..., 2015, 's', 'used']], dtype=object)"
      ]
     },
     "execution_count": 47,
     "metadata": {},
     "output_type": "execute_result"
    }
   ],
   "source": [
    "X"
   ]
  },
  {
   "cell_type": "code",
   "execution_count": 15,
   "metadata": {},
   "outputs": [],
   "source": [
    "df1 = pd.get_dummies(df1,drop_first=True)"
   ]
  },
  {
   "cell_type": "code",
   "execution_count": 16,
   "metadata": {},
   "outputs": [
    {
     "data": {
      "text/html": [
       "<div>\n",
       "<style scoped>\n",
       "    .dataframe tbody tr th:only-of-type {\n",
       "        vertical-align: middle;\n",
       "    }\n",
       "\n",
       "    .dataframe tbody tr th {\n",
       "        vertical-align: top;\n",
       "    }\n",
       "\n",
       "    .dataframe thead th {\n",
       "        text-align: right;\n",
       "    }\n",
       "</style>\n",
       "<table border=\"1\" class=\"dataframe\">\n",
       "  <thead>\n",
       "    <tr style=\"text-align: right;\">\n",
       "      <th></th>\n",
       "      <th>age</th>\n",
       "      <th>dist</th>\n",
       "      <th>year</th>\n",
       "      <th>quote</th>\n",
       "      <th>city_Airdrie</th>\n",
       "      <th>city_Ajax</th>\n",
       "      <th>city_Aurora</th>\n",
       "      <th>city_Barrie</th>\n",
       "      <th>city_Belleville</th>\n",
       "      <th>city_Blainville</th>\n",
       "      <th>...</th>\n",
       "      <th>model_mirano</th>\n",
       "      <th>model_r8</th>\n",
       "      <th>model_rsx</th>\n",
       "      <th>model_s</th>\n",
       "      <th>model_sierra</th>\n",
       "      <th>model_terrain</th>\n",
       "      <th>model_x</th>\n",
       "      <th>model_x5</th>\n",
       "      <th>model_yukon</th>\n",
       "      <th>new_used_used</th>\n",
       "    </tr>\n",
       "  </thead>\n",
       "  <tbody>\n",
       "    <tr>\n",
       "      <td>0</td>\n",
       "      <td>61</td>\n",
       "      <td>10726</td>\n",
       "      <td>2017</td>\n",
       "      <td>352.599790</td>\n",
       "      <td>0</td>\n",
       "      <td>0</td>\n",
       "      <td>0</td>\n",
       "      <td>0</td>\n",
       "      <td>1</td>\n",
       "      <td>0</td>\n",
       "      <td>...</td>\n",
       "      <td>0</td>\n",
       "      <td>0</td>\n",
       "      <td>0</td>\n",
       "      <td>0</td>\n",
       "      <td>0</td>\n",
       "      <td>0</td>\n",
       "      <td>0</td>\n",
       "      <td>0</td>\n",
       "      <td>0</td>\n",
       "      <td>1</td>\n",
       "    </tr>\n",
       "    <tr>\n",
       "      <td>1</td>\n",
       "      <td>21</td>\n",
       "      <td>9401</td>\n",
       "      <td>2001</td>\n",
       "      <td>1723.855245</td>\n",
       "      <td>0</td>\n",
       "      <td>0</td>\n",
       "      <td>0</td>\n",
       "      <td>0</td>\n",
       "      <td>0</td>\n",
       "      <td>0</td>\n",
       "      <td>...</td>\n",
       "      <td>0</td>\n",
       "      <td>0</td>\n",
       "      <td>0</td>\n",
       "      <td>0</td>\n",
       "      <td>0</td>\n",
       "      <td>0</td>\n",
       "      <td>0</td>\n",
       "      <td>0</td>\n",
       "      <td>0</td>\n",
       "      <td>1</td>\n",
       "    </tr>\n",
       "    <tr>\n",
       "      <td>2</td>\n",
       "      <td>83</td>\n",
       "      <td>9427</td>\n",
       "      <td>2016</td>\n",
       "      <td>221.792349</td>\n",
       "      <td>0</td>\n",
       "      <td>0</td>\n",
       "      <td>0</td>\n",
       "      <td>0</td>\n",
       "      <td>0</td>\n",
       "      <td>0</td>\n",
       "      <td>...</td>\n",
       "      <td>0</td>\n",
       "      <td>0</td>\n",
       "      <td>0</td>\n",
       "      <td>0</td>\n",
       "      <td>0</td>\n",
       "      <td>0</td>\n",
       "      <td>0</td>\n",
       "      <td>0</td>\n",
       "      <td>0</td>\n",
       "      <td>1</td>\n",
       "    </tr>\n",
       "    <tr>\n",
       "      <td>3</td>\n",
       "      <td>28</td>\n",
       "      <td>21090</td>\n",
       "      <td>2003</td>\n",
       "      <td>1723.855245</td>\n",
       "      <td>0</td>\n",
       "      <td>0</td>\n",
       "      <td>0</td>\n",
       "      <td>0</td>\n",
       "      <td>0</td>\n",
       "      <td>0</td>\n",
       "      <td>...</td>\n",
       "      <td>0</td>\n",
       "      <td>0</td>\n",
       "      <td>0</td>\n",
       "      <td>0</td>\n",
       "      <td>0</td>\n",
       "      <td>0</td>\n",
       "      <td>0</td>\n",
       "      <td>0</td>\n",
       "      <td>0</td>\n",
       "      <td>1</td>\n",
       "    </tr>\n",
       "    <tr>\n",
       "      <td>4</td>\n",
       "      <td>56</td>\n",
       "      <td>7099</td>\n",
       "      <td>2018</td>\n",
       "      <td>354.748787</td>\n",
       "      <td>0</td>\n",
       "      <td>0</td>\n",
       "      <td>0</td>\n",
       "      <td>0</td>\n",
       "      <td>0</td>\n",
       "      <td>0</td>\n",
       "      <td>...</td>\n",
       "      <td>0</td>\n",
       "      <td>0</td>\n",
       "      <td>0</td>\n",
       "      <td>0</td>\n",
       "      <td>0</td>\n",
       "      <td>0</td>\n",
       "      <td>0</td>\n",
       "      <td>0</td>\n",
       "      <td>0</td>\n",
       "      <td>1</td>\n",
       "    </tr>\n",
       "  </tbody>\n",
       "</table>\n",
       "<p>5 rows × 140 columns</p>\n",
       "</div>"
      ],
      "text/plain": [
       "   age   dist  year        quote  city_Airdrie  city_Ajax  city_Aurora  \\\n",
       "0   61  10726  2017   352.599790             0          0            0   \n",
       "1   21   9401  2001  1723.855245             0          0            0   \n",
       "2   83   9427  2016   221.792349             0          0            0   \n",
       "3   28  21090  2003  1723.855245             0          0            0   \n",
       "4   56   7099  2018   354.748787             0          0            0   \n",
       "\n",
       "   city_Barrie  city_Belleville  city_Blainville  ...  model_mirano  model_r8  \\\n",
       "0            0                1                0  ...             0         0   \n",
       "1            0                0                0  ...             0         0   \n",
       "2            0                0                0  ...             0         0   \n",
       "3            0                0                0  ...             0         0   \n",
       "4            0                0                0  ...             0         0   \n",
       "\n",
       "   model_rsx  model_s  model_sierra  model_terrain  model_x  model_x5  \\\n",
       "0          0        0             0              0        0         0   \n",
       "1          0        0             0              0        0         0   \n",
       "2          0        0             0              0        0         0   \n",
       "3          0        0             0              0        0         0   \n",
       "4          0        0             0              0        0         0   \n",
       "\n",
       "   model_yukon  new_used_used  \n",
       "0            0              1  \n",
       "1            0              1  \n",
       "2            0              1  \n",
       "3            0              1  \n",
       "4            0              1  \n",
       "\n",
       "[5 rows x 140 columns]"
      ]
     },
     "execution_count": 16,
     "metadata": {},
     "output_type": "execute_result"
    }
   ],
   "source": [
    "df1.head()"
   ]
  },
  {
   "cell_type": "code",
   "execution_count": 17,
   "metadata": {},
   "outputs": [
    {
     "data": {
      "text/plain": [
       "(5000, 140)"
      ]
     },
     "execution_count": 17,
     "metadata": {},
     "output_type": "execute_result"
    }
   ],
   "source": [
    "X1 = df1.to_numpy()\n",
    "X1.shape"
   ]
  },
  {
   "cell_type": "code",
   "execution_count": null,
   "metadata": {},
   "outputs": [],
   "source": []
  }
 ],
 "metadata": {
  "kernelspec": {
   "display_name": "Python 3",
   "language": "python",
   "name": "python3"
  },
  "language_info": {
   "codemirror_mode": {
    "name": "ipython",
    "version": 3
   },
   "file_extension": ".py",
   "mimetype": "text/x-python",
   "name": "python",
   "nbconvert_exporter": "python",
   "pygments_lexer": "ipython3",
   "version": "3.7.3"
  }
 },
 "nbformat": 4,
 "nbformat_minor": 2
}
